{
 "metadata": {
  "language_info": {
   "codemirror_mode": {
    "name": "ipython",
    "version": 3
   },
   "file_extension": ".py",
   "mimetype": "text/x-python",
   "name": "python",
   "nbconvert_exporter": "python",
   "pygments_lexer": "ipython3",
   "version": "3.8.7-final"
  },
  "orig_nbformat": 2,
  "kernelspec": {
   "name": "python3",
   "display_name": "Python 3.8.7 64-bit",
   "metadata": {
    "interpreter": {
     "hash": "a43137fc5a3f77af4cc6a8c4e103a4a7bfa1449783a9e042d32d54966c39676d"
    }
   }
  }
 },
 "nbformat": 4,
 "nbformat_minor": 2,
 "cells": [
  {
   "cell_type": "code",
   "execution_count": 1,
   "metadata": {},
   "outputs": [],
   "source": [
    "import numpy as np\n",
    "from aspired import image_reduction\n",
    "from aspired import spectral_reduction\n",
    "from astropy.io import fits\n",
    "import plotly.io as pio\n",
    "pio.renderers.default = \"notebook\""
   ]
  },
  {
   "source": [
    "Case b)\n",
    "\n",
    "The FITS structure of the science frame is non-standard for long-slit spectra: 10 frames are stored in a data cube using the third axis for time information. ASPIRED cannot understand the given data, so a None would be stored and continue with the process as much as possible, hence when trying to view the plot, it is empty.\n",
    "\n",
    "The shapes of this data cube is as follow:"
   ],
   "cell_type": "markdown",
   "metadata": {}
  },
  {
   "cell_type": "code",
   "execution_count": 2,
   "metadata": {
    "tags": []
   },
   "outputs": [],
   "source": [
    "science_fits = fits.open('data/spectre_HD20041_00038.fits')"
   ]
  },
  {
   "cell_type": "code",
   "execution_count": 3,
   "metadata": {},
   "outputs": [
    {
     "output_type": "stream",
     "name": "stdout",
     "text": [
      "Case 1:  <class 'astropy.io.fits.hdu.hdulist.HDUList'> (1,)\nCase 2:  <class 'astropy.io.fits.hdu.image.PrimaryHDU'> (10, 1001, 2048)\nCase 3:  <class 'numpy.ndarray'> (10, 1001, 2048)\nCase 4:  <class 'numpy.ndarray'> (1001, 2048)\n"
     ]
    }
   ],
   "source": [
    "print('Case 1: ', type(science_fits), np.shape(science_fits))\n",
    "print('Case 2: ', type(science_fits[0]), np.shape(science_fits[0]))\n",
    "print('Case 3: ', type(science_fits[0].data), np.shape(science_fits[0].data))\n",
    "print('Case 4: ', type(science_fits[0].data[0]), np.shape(science_fits[0].data[0]))"
   ]
  },
  {
   "source": [
    "ASPIRED is now checking extra data structure, it can understand all these three formats. In case 1, it will enter one level and continue the operation. In the second case, when ASPIRED reads a 3-dimensional HDU data, it will only take the first array of data and throw a warning. In the third case, it is reading a 3-dimensional data structure of numpy array, where only the first array of data will be read and throw a warning. In the last case, it is the expected 2D array structure so it always work. Please also note the number of square brackets in the 4 cases:"
   ],
   "cell_type": "markdown",
   "metadata": {}
  },
  {
   "cell_type": "code",
   "execution_count": 4,
   "metadata": {},
   "outputs": [
    {
     "output_type": "stream",
     "name": "stderr",
     "text": [
      "WARNING:root:An HDU list is provided, only the first HDU will be read.\n",
      "WARNING:root:Read Noise value cannot be identified. It is set to 0.\n",
      "WARNING:root:Seeing value cannot be identified. It is set to 1.\n",
      "[[[20.466667 20.466667 19.866667 ... 20.       19.666666 20.466667]\n",
      "  [20.133333 20.133333 20.2      ... 20.       20.333334 20.533333]\n",
      "  [20.       20.266666 20.       ... 20.466667 20.266666 20.333334]\n",
      "  ...\n",
      "  [20.133333 20.133333 20.6      ... 20.       20.       20.333334]\n",
      "  [20.2      20.6      20.266666 ... 20.666666 19.933332 20.133333]\n",
      "  [20.533333 19.866667 20.333334 ... 20.333334 20.066668 19.8     ]]\n",
      "\n",
      " [[20.066668 20.066668 19.933332 ... 20.       20.2      20.2     ]\n",
      "  [20.133333 20.6      20.733334 ... 19.933332 20.4      19.733334]\n",
      "  [20.466667 20.133333 20.333334 ... 20.466667 19.933332 20.4     ]\n",
      "  ...\n",
      "  [20.466667 20.333334 20.866667 ... 20.066668 20.266666 20.6     ]\n",
      "  [20.4      20.733334 20.133333 ... 20.333334 20.2      20.266666]\n",
      "  [20.4      19.933332 20.8      ... 20.333334 20.133333 20.533333]]\n",
      "\n",
      " [[20.666666 20.466667 20.266666 ... 20.6      20.266666 20.133333]\n",
      "  [20.4      20.066668 20.533333 ... 20.333334 20.533333 19.933332]\n",
      "  [20.333334 20.4      20.       ... 20.       20.066668 20.466667]\n",
      "  ...\n",
      "  [20.266666 20.533333 20.333334 ... 20.733334 19.733334 20.066668]\n",
      "  [20.533333 20.333334 20.133333 ... 20.066668 20.666666 19.866667]\n",
      "  [20.466667 20.4      19.933332 ... 20.6      19.8      20.2     ]]\n",
      "\n",
      " ...\n",
      "\n",
      " [[20.266666 19.933332 20.6      ... 20.133333 20.066668 20.6     ]\n",
      "  [20.133333 20.4      19.8      ... 20.466667 20.2      20.2     ]\n",
      "  [20.333334 20.066668 20.333334 ... 20.066668 20.333334 20.066668]\n",
      "  ...\n",
      "  [20.4      20.266666 19.8      ... 19.866667 20.266666 20.4     ]\n",
      "  [20.2      20.533333 19.733334 ... 19.933332 20.4      20.066668]\n",
      "  [20.2      20.733334 20.2      ... 19.933332 20.2      19.866667]]\n",
      "\n",
      " [[20.4      20.       20.2      ... 19.933332 19.933332 19.866667]\n",
      "  [20.466667 20.4      20.       ... 20.733334 20.066668 20.466667]\n",
      "  [20.6      20.       20.333334 ... 20.466667 19.8      19.866667]\n",
      "  ...\n",
      "  [20.533333 20.133333 20.333334 ... 20.2      20.066668 20.333334]\n",
      "  [20.4      20.2      20.2      ... 19.933332 20.066668 20.8     ]\n",
      "  [20.733334 20.2      20.       ... 20.133333 20.066668 19.933332]]\n",
      "\n",
      " [[20.2      20.133333 20.533333 ... 20.466667 19.8      20.133333]\n",
      "  [20.066668 20.2      19.6      ... 20.266666 19.8      20.2     ]\n",
      "  [19.6      20.2      20.066668 ... 20.       20.533333 20.533333]\n",
      "  ...\n",
      "  [20.666666 20.266666 20.2      ... 20.533333 20.333334 20.333334]\n",
      "  [20.133333 20.466667 19.933332 ... 20.       20.4      20.333334]\n",
      "  [20.266666 20.4      20.466667 ... 20.333334 20.       19.8     ]]]\n"
     ]
    }
   ],
   "source": [
    "# Case 1 working - with the header, the gain and exposure time can be found. Readnoise and seeing values are not present in the header.\n",
    "science_frame_twodspec = spectral_reduction.TwoDSpec(science_fits)\n",
    "print(science_frame_twodspec.img)\n",
    "\n",
    "# Reset\n",
    "science_frame_twodspec = None"
   ]
  },
  {
   "cell_type": "code",
   "execution_count": 5,
   "metadata": {},
   "outputs": [
    {
     "output_type": "stream",
     "name": "stderr",
     "text": [
      "WARNING:root:Read Noise value cannot be identified. It is set to 0.\n",
      "WARNING:root:Seeing value cannot be identified. It is set to 1.\n",
      "[[[20.466667 20.466667 19.866667 ... 20.       19.666666 20.466667]\n",
      "  [20.133333 20.133333 20.2      ... 20.       20.333334 20.533333]\n",
      "  [20.       20.266666 20.       ... 20.466667 20.266666 20.333334]\n",
      "  ...\n",
      "  [20.133333 20.133333 20.6      ... 20.       20.       20.333334]\n",
      "  [20.2      20.6      20.266666 ... 20.666666 19.933332 20.133333]\n",
      "  [20.533333 19.866667 20.333334 ... 20.333334 20.066668 19.8     ]]\n",
      "\n",
      " [[20.066668 20.066668 19.933332 ... 20.       20.2      20.2     ]\n",
      "  [20.133333 20.6      20.733334 ... 19.933332 20.4      19.733334]\n",
      "  [20.466667 20.133333 20.333334 ... 20.466667 19.933332 20.4     ]\n",
      "  ...\n",
      "  [20.466667 20.333334 20.866667 ... 20.066668 20.266666 20.6     ]\n",
      "  [20.4      20.733334 20.133333 ... 20.333334 20.2      20.266666]\n",
      "  [20.4      19.933332 20.8      ... 20.333334 20.133333 20.533333]]\n",
      "\n",
      " [[20.666666 20.466667 20.266666 ... 20.6      20.266666 20.133333]\n",
      "  [20.4      20.066668 20.533333 ... 20.333334 20.533333 19.933332]\n",
      "  [20.333334 20.4      20.       ... 20.       20.066668 20.466667]\n",
      "  ...\n",
      "  [20.266666 20.533333 20.333334 ... 20.733334 19.733334 20.066668]\n",
      "  [20.533333 20.333334 20.133333 ... 20.066668 20.666666 19.866667]\n",
      "  [20.466667 20.4      19.933332 ... 20.6      19.8      20.2     ]]\n",
      "\n",
      " ...\n",
      "\n",
      " [[20.266666 19.933332 20.6      ... 20.133333 20.066668 20.6     ]\n",
      "  [20.133333 20.4      19.8      ... 20.466667 20.2      20.2     ]\n",
      "  [20.333334 20.066668 20.333334 ... 20.066668 20.333334 20.066668]\n",
      "  ...\n",
      "  [20.4      20.266666 19.8      ... 19.866667 20.266666 20.4     ]\n",
      "  [20.2      20.533333 19.733334 ... 19.933332 20.4      20.066668]\n",
      "  [20.2      20.733334 20.2      ... 19.933332 20.2      19.866667]]\n",
      "\n",
      " [[20.4      20.       20.2      ... 19.933332 19.933332 19.866667]\n",
      "  [20.466667 20.4      20.       ... 20.733334 20.066668 20.466667]\n",
      "  [20.6      20.       20.333334 ... 20.466667 19.8      19.866667]\n",
      "  ...\n",
      "  [20.533333 20.133333 20.333334 ... 20.2      20.066668 20.333334]\n",
      "  [20.4      20.2      20.2      ... 19.933332 20.066668 20.8     ]\n",
      "  [20.733334 20.2      20.       ... 20.133333 20.066668 19.933332]]\n",
      "\n",
      " [[20.2      20.133333 20.533333 ... 20.466667 19.8      20.133333]\n",
      "  [20.066668 20.2      19.6      ... 20.266666 19.8      20.2     ]\n",
      "  [19.6      20.2      20.066668 ... 20.       20.533333 20.533333]\n",
      "  ...\n",
      "  [20.666666 20.266666 20.2      ... 20.533333 20.333334 20.333334]\n",
      "  [20.133333 20.466667 19.933332 ... 20.       20.4      20.333334]\n",
      "  [20.266666 20.4      20.466667 ... 20.333334 20.       19.8     ]]]\n"
     ]
    }
   ],
   "source": [
    "# Case 2 - with the header, the gain and exposure time can be found. Readnoise and seeing values are not present in the header.\n",
    "science_frame_twodspec = spectral_reduction.TwoDSpec(science_fits[0])\n",
    "print(science_frame_twodspec.img)\n",
    "\n",
    "# Reset\n",
    "science_frame_twodspec = None"
   ]
  },
  {
   "cell_type": "code",
   "execution_count": 6,
   "metadata": {},
   "outputs": [
    {
     "output_type": "stream",
     "name": "stderr",
     "text": [
      "WARNING:root:Header is not provided. Read Noise value is not provided. It is set to 0.\n",
      "WARNING:root:Header is not provide. Gain value is not provided. It is set to 1.\n",
      "WARNING:root:Header is not provide. Seeing value is not provided. It is set to 1.\n",
      "WARNING:root:Header is not provide. Exposure Time value is not provided. It is set to 1.\n",
      "[[[307. 307. 298. ... 300. 295. 307.]\n",
      "  [302. 302. 303. ... 300. 305. 308.]\n",
      "  [300. 304. 300. ... 307. 304. 305.]\n",
      "  ...\n",
      "  [302. 302. 309. ... 300. 300. 305.]\n",
      "  [303. 309. 304. ... 310. 299. 302.]\n",
      "  [308. 298. 305. ... 305. 301. 297.]]\n",
      "\n",
      " [[301. 301. 299. ... 300. 303. 303.]\n",
      "  [302. 309. 311. ... 299. 306. 296.]\n",
      "  [307. 302. 305. ... 307. 299. 306.]\n",
      "  ...\n",
      "  [307. 305. 313. ... 301. 304. 309.]\n",
      "  [306. 311. 302. ... 305. 303. 304.]\n",
      "  [306. 299. 312. ... 305. 302. 308.]]\n",
      "\n",
      " [[310. 307. 304. ... 309. 304. 302.]\n",
      "  [306. 301. 308. ... 305. 308. 299.]\n",
      "  [305. 306. 300. ... 300. 301. 307.]\n",
      "  ...\n",
      "  [304. 308. 305. ... 311. 296. 301.]\n",
      "  [308. 305. 302. ... 301. 310. 298.]\n",
      "  [307. 306. 299. ... 309. 297. 303.]]\n",
      "\n",
      " ...\n",
      "\n",
      " [[304. 299. 309. ... 302. 301. 309.]\n",
      "  [302. 306. 297. ... 307. 303. 303.]\n",
      "  [305. 301. 305. ... 301. 305. 301.]\n",
      "  ...\n",
      "  [306. 304. 297. ... 298. 304. 306.]\n",
      "  [303. 308. 296. ... 299. 306. 301.]\n",
      "  [303. 311. 303. ... 299. 303. 298.]]\n",
      "\n",
      " [[306. 300. 303. ... 299. 299. 298.]\n",
      "  [307. 306. 300. ... 311. 301. 307.]\n",
      "  [309. 300. 305. ... 307. 297. 298.]\n",
      "  ...\n",
      "  [308. 302. 305. ... 303. 301. 305.]\n",
      "  [306. 303. 303. ... 299. 301. 312.]\n",
      "  [311. 303. 300. ... 302. 301. 299.]]\n",
      "\n",
      " [[303. 302. 308. ... 307. 297. 302.]\n",
      "  [301. 303. 294. ... 304. 297. 303.]\n",
      "  [294. 303. 301. ... 300. 308. 308.]\n",
      "  ...\n",
      "  [310. 304. 303. ... 308. 305. 305.]\n",
      "  [302. 307. 299. ... 300. 306. 305.]\n",
      "  [304. 306. 307. ... 305. 300. 297.]]]\n"
     ]
    }
   ],
   "source": [
    "# Case 3 - without any header, nothing cannot be found.\n",
    "science_frame_twodspec = spectral_reduction.TwoDSpec(science_fits[0].data)\n",
    "print(science_frame_twodspec.img)\n",
    "\n",
    "# Reset\n",
    "science_frame_twodspec = None"
   ]
  },
  {
   "cell_type": "code",
   "execution_count": 7,
   "metadata": {},
   "outputs": [
    {
     "output_type": "stream",
     "name": "stderr",
     "text": [
      "WARNING:root:Header is not provided. Read Noise value is not provided. It is set to 0.\n",
      "WARNING:root:Header is not provide. Gain value is not provided. It is set to 1.\n",
      "WARNING:root:Header is not provide. Seeing value is not provided. It is set to 1.\n",
      "WARNING:root:Header is not provide. Exposure Time value is not provided. It is set to 1.\n",
      "[[307. 307. 298. ... 300. 295. 307.]\n",
      " [302. 302. 303. ... 300. 305. 308.]\n",
      " [300. 304. 300. ... 307. 304. 305.]\n",
      " ...\n",
      " [302. 302. 309. ... 300. 300. 305.]\n",
      " [303. 309. 304. ... 310. 299. 302.]\n",
      " [308. 298. 305. ... 305. 301. 297.]]\n"
     ]
    }
   ],
   "source": [
    "# Case 4 - without any header, nothing cannot be found.\n",
    "science_frame_twodspec = spectral_reduction.TwoDSpec(science_fits[0].data[0])\n",
    "print(science_frame_twodspec.img)\n",
    "\n",
    "# Reset\n",
    "science_frame_twodspec = None"
   ]
  },
  {
   "source": [
    "Case d\n",
    "\n",
    "After including more data structure trapping, this is now working. I have downgraded some of the errors to warnings. The 5 levels of errors: DEBUG, INFO, WARNING, ERROR and CRITICAL. The first two are obvious. In my standard, WARNING is when some suboptimal operations are performed, which can lead to wrong results but it should complete all operations. ERROR is when something is wrong, but the software can try to proceed as much as possible, it is unlikely to produce anything useful, but it can exit without blocking the script. CRITICAL is when operations that will terminate immediately because it cannot identify any alternative solution, usually happen in the data ingestion stage. The logging system is far from complete, even some of the most frequently used functions are not coming with a complete set of logging."
   ],
   "cell_type": "markdown",
   "metadata": {}
  },
  {
   "cell_type": "code",
   "execution_count": 8,
   "metadata": {},
   "outputs": [
    {
     "output_type": "stream",
     "name": "stderr",
     "text": [
      "WARNING:root:No bias frames. Bias subtraction is not performed.\n",
      "WARNING:root:Master bias is not available, master flat will not be bias subtracted.\n",
      "WARNING:root:Read Noise value cannot be identified. It is set to 0.\n",
      "WARNING:root:Seeing value cannot be identified. It is set to 1.\n"
     ]
    }
   ],
   "source": [
    "science_frame = image_reduction.ImageReduction('data/test.txt', exptime_dark=15., log_level='INFO')\n",
    "science_frame.reduce()\n",
    "science_frame_twodspec = spectral_reduction.TwoDSpec(science_frame, cosmicray=True)"
   ]
  },
  {
   "cell_type": "code",
   "execution_count": 9,
   "metadata": {},
   "outputs": [],
   "source": [
    "hgar_fits = fits.open('data/spectre_hgar_00028.fits')"
   ]
  },
  {
   "cell_type": "code",
   "execution_count": 10,
   "metadata": {},
   "outputs": [
    {
     "output_type": "stream",
     "name": "stderr",
     "text": [
      "WARNING:root:Please provide a valid astropy.io.fits.header.Header object. Process continues without storing the header of the arc file.\n"
     ]
    }
   ],
   "source": [
    "science_frame_twodspec.add_arc(hgar_fits[0].data[0])"
   ]
  },
  {
   "cell_type": "code",
   "execution_count": 11,
   "metadata": {},
   "outputs": [
    {
     "output_type": "stream",
     "name": "stdout",
     "text": [
      "[[300. 302. 311. ... 310. 303. 300.]\n [310. 305. 306. ... 306. 303. 305.]\n [304. 309. 309. ... 308. 302. 308.]\n ...\n [308. 309. 303. ... 306. 309. 312.]\n [302. 308. 306. ... 306. 307. 307.]\n [302. 306. 310. ... 310. 311. 306.]]\n"
     ]
    }
   ],
   "source": [
    "print(science_frame_twodspec.arc)"
   ]
  }
 ]
}